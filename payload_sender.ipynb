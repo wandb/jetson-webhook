{
 "cells": [
  {
   "cell_type": "markdown",
   "metadata": {},
   "source": [
    "![image](/home/frida/emea-sesame/PXL_20230920_075839451.jpg)"
   ]
  },
  {
   "cell_type": "code",
   "execution_count": 67,
   "metadata": {},
   "outputs": [],
   "source": [
    "import json\n",
    "import requests\n",
    "# URL of the server to send the POST request to\n",
    "url = \"http://2.28.46.158:8090\""
   ]
  },
  {
   "cell_type": "code",
   "execution_count": 68,
   "metadata": {},
   "outputs": [
    {
     "data": {
      "text/plain": [
       "{'event_type': '${event_type}',\n",
       " 'client_payload': {'event_author': '${event_author}',\n",
       "  'artifact_version': '${artifact_version}',\n",
       "  'artifact_version_string': '${artifact_version_string}',\n",
       "  'artifact_collection_name': '${artifact_collection_name}',\n",
       "  'project_name': '${project_name}',\n",
       "  'entity_name': '${entity_name}'}}"
      ]
     },
     "execution_count": 68,
     "metadata": {},
     "output_type": "execute_result"
    }
   ],
   "source": [
    "{\n",
    "  \"event_type\": \"${event_type}\",\n",
    "  \"client_payload\": \n",
    "  {\n",
    "    \"event_author\": \"${event_author}\",\n",
    "    \"artifact_version\": \"${artifact_version}\",\n",
    "    \"artifact_version_string\": \"${artifact_version_string}\",\n",
    "    \"artifact_collection_name\": \"${artifact_collection_name}\",\n",
    "    \"project_name\": \"${project_name}\",\n",
    "    \"entity_name\": \"${entity_name}\"\n",
    "    }\n",
    "}"
   ]
  },
  {
   "cell_type": "code",
   "execution_count": 69,
   "metadata": {},
   "outputs": [],
   "source": [
    "headers = {\n",
    "    'Content-Type': 'application/json',\n",
    "    'Authorization': 'Bearer token',  # Replace 'token' with your actual token\n",
    "    'wandb-secret': 'a-secret-key'  # Replace 'your_secret' with your actual secret\n",
    "}"
   ]
  },
  {
   "cell_type": "code",
   "execution_count": 70,
   "metadata": {},
   "outputs": [],
   "source": [
    "payload = {\n",
    "    \"client_payload\":\n",
    "    {\n",
    "     \"artifact_collection_name\":\"CIFAR_10\",\n",
    "     \"artifact_version\":\"wandb-artifact://_id/QXJ0aWZhY3Q6NjI0OTY3Mzkw\",\n",
    "     \"artifact_version_string\":\"tiny-ml/quantized edge training/CIFAR_10:v0\",\n",
    "     \"entity_name\":\"tiny-ml\",\n",
    "     \"event_author\":\"frds\",\n",
    "     \"project_name\":\"quantized edge training\"\n",
    "    },\n",
    "     \"event_type\":\"ADD_ARTIFACT_ALIAS\"\n",
    "}"
   ]
  },
  {
   "cell_type": "code",
   "execution_count": 71,
   "metadata": {},
   "outputs": [],
   "source": [
    "payload_json = json.dumps(payload)\n",
    "# Send POST request"
   ]
  },
  {
   "cell_type": "code",
   "execution_count": 72,
   "metadata": {},
   "outputs": [
    {
     "data": {
      "text/plain": [
       "<Response [200]>"
      ]
     },
     "execution_count": 72,
     "metadata": {},
     "output_type": "execute_result"
    }
   ],
   "source": [
    "requests.post(url, headers=headers, data=payload_json)"
   ]
  },
  {
   "cell_type": "code",
   "execution_count": 8,
   "metadata": {},
   "outputs": [
    {
     "data": {
      "text/plain": [
       "{'client_payload': {'artifact_version_string': 'your_artifact_version_string'}}"
      ]
     },
     "execution_count": 8,
     "metadata": {},
     "output_type": "execute_result"
    }
   ],
   "source": [
    "payload"
   ]
  },
  {
   "cell_type": "code",
   "execution_count": 3,
   "metadata": {},
   "outputs": [],
   "source": [
    "from http.server import BaseHTTPRequestHandler, HTTPServer\n",
    "import json\n",
    "import os\n",
    "import subprocess\n",
    "import hashlib\n",
    "import hmac\n",
    "import base64\n"
   ]
  },
  {
   "cell_type": "code",
   "execution_count": 20,
   "metadata": {},
   "outputs": [
    {
     "name": "stdout",
     "output_type": "stream",
     "text": [
      "Computed binary signature: b'RU\\x9e8\\xb7\\x03\\xc1&6F\\x13\\x93j\\x92\\xa8\\xb48+@\\x959\\xf1S\\xb2,\\x86\\xe5\\xc2\\xe4\\x192z'\n",
      "Received binary signature: b'RU\\x9e8\\xb7\\x03\\xc1&6F\\x13\\x93j\\x92\\xa8\\xb48+@\\x959\\xf1S\\xb2,\\x86\\xe5\\xc2\\xe4\\x192z'\n",
      "Signatures match: True\n"
     ]
    },
    {
     "data": {
      "text/plain": [
       "True"
      ]
     },
     "execution_count": 20,
     "metadata": {},
     "output_type": "execute_result"
    }
   ],
   "source": [
    "def verify_signature(secret_key, hex_received_signature):\n",
    "    payload = '{}'  # The actual payload that was signed, ensure it matches exactly\n",
    "    hmac_signature = hmac.new(secret_key.encode(), payload.encode(), hashlib.sha256).digest()\n",
    "\n",
    "    # Convert the received hex signature to binary\n",
    "    binary_received_signature = bytes.fromhex(hex_received_signature)\n",
    "\n",
    "    # Direct comparison of the binary formats\n",
    "    is_valid = hmac_signature == binary_received_signature\n",
    "\n",
    "    print('Computed binary signature:', hmac_signature)\n",
    "    print('Received binary signature:', binary_received_signature)\n",
    "    print('Signatures match:', is_valid)\n",
    "\n",
    "    return is_valid\n",
    "\n",
    "# Example usage with the payload and secret key that were originally used to create the signature\n",
    "verify_signature('wandb-secret', '52559e38b703c126364613936a92a8b4382b409539f153b22c86e5c2e419327a')\n",
    "\n"
   ]
  },
  {
   "cell_type": "code",
   "execution_count": 17,
   "metadata": {},
   "outputs": [
    {
     "name": "stdout",
     "output_type": "stream",
     "text": [
      "base64 0PcHoic3u9P7pVKsI3WFWpq1pqZFAnpxXDGDMZsVZgY=\n"
     ]
    },
    {
     "data": {
      "text/plain": [
       "False"
      ]
     },
     "execution_count": 17,
     "metadata": {},
     "output_type": "execute_result"
    }
   ],
   "source": [
    "verify_signature('wandb-token','52559e38b703c126364613936a92a8b4382b409539f153b22c86e5c2e419327a')"
   ]
  },
  {
   "cell_type": "code",
   "execution_count": null,
   "metadata": {},
   "outputs": [],
   "source": []
  }
 ],
 "metadata": {
  "kernelspec": {
   "display_name": "Python 3 (ipykernel)",
   "language": "python",
   "name": "python3"
  },
  "language_info": {
   "codemirror_mode": {
    "name": "ipython",
    "version": 3
   },
   "file_extension": ".py",
   "mimetype": "text/x-python",
   "name": "python",
   "nbconvert_exporter": "python",
   "pygments_lexer": "ipython3",
   "version": "3.9.7"
  }
 },
 "nbformat": 4,
 "nbformat_minor": 4
}
