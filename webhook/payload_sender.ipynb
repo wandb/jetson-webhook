{
 "cells": [
  {
   "cell_type": "code",
   "execution_count": 48,
   "metadata": {},
   "outputs": [],
   "source": [
    "import json\n",
    "import requests\n",
    "# URL of the server to send the POST request to\n",
    "url = \"http://2.28.46.158:8090\"\n"
   ]
  },
  {
   "cell_type": "code",
   "execution_count": 49,
   "metadata": {},
   "outputs": [
    {
     "data": {
      "text/plain": [
       "{'event_type': '${event_type}',\n",
       " 'client_payload': {'event_author': '${event_author}',\n",
       "  'artifact_version': '${artifact_version}',\n",
       "  'artifact_version_string': '${artifact_version_string}',\n",
       "  'artifact_collection_name': '${artifact_collection_name}',\n",
       "  'project_name': '${project_name}',\n",
       "  'entity_name': '${entity_name}'}}"
      ]
     },
     "execution_count": 49,
     "metadata": {},
     "output_type": "execute_result"
    }
   ],
   "source": [
    "{\n",
    "  \"event_type\": \"${event_type}\",\n",
    "  \"client_payload\": \n",
    "  {\n",
    "    \"event_author\": \"${event_author}\",\n",
    "    \"artifact_version\": \"${artifact_version}\",\n",
    "    \"artifact_version_string\": \"${artifact_version_string}\",\n",
    "    \"artifact_collection_name\": \"${artifact_collection_name}\",\n",
    "    \"project_name\": \"${project_name}\",\n",
    "    \"entity_name\": \"${entity_name}\"\n",
    "    }\n",
    "}"
   ]
  },
  {
   "cell_type": "code",
   "execution_count": 55,
   "metadata": {},
   "outputs": [],
   "source": [
    "headers = {\n",
    "    'Content-Type': 'application/json',\n",
    "    'Authorization': 'a-secret-token',  # Replace 'token' with your actual token\n",
    "    'wandb-secret': 'a-secret-token'  # Replace 'your_secret' with your actual secret\n",
    "}"
   ]
  },
  {
   "cell_type": "code",
   "execution_count": 56,
   "metadata": {},
   "outputs": [],
   "source": [
    "payload = {\n",
    "    \"client_payload\":\n",
    "    {\n",
    "     \"artifact_collection_name\":\"CIFAR_10\",\n",
    "     \"artifact_version\":\"wandb-artifact://_id/QXJ0aWZhY3Q6NjI0OTY3Mzkw\",\n",
    "     \"artifact_version_string\":\"tiny-ml/quantized edge training/CIFAR_10:v0\",\n",
    "     \"entity_name\":\"tiny-ml\",\n",
    "     \"event_author\":\"frds\",\n",
    "     \"project_name\":\"quantized edge training\"\n",
    "    },\n",
    "     \"event_type\":\"ADD_ARTIFACT_ALIAS\"\n",
    "}"
   ]
  },
  {
   "cell_type": "code",
   "execution_count": 57,
   "metadata": {},
   "outputs": [],
   "source": [
    "payload_json = json.dumps(payload)\n",
    "# Send POST request\n"
   ]
  },
  {
   "cell_type": "code",
   "execution_count": 58,
   "metadata": {},
   "outputs": [
    {
     "data": {
      "text/plain": [
       "<Response [200]>"
      ]
     },
     "execution_count": 58,
     "metadata": {},
     "output_type": "execute_result"
    }
   ],
   "source": [
    "requests.post(url, headers=headers, data=payload_json)"
   ]
  },
  {
   "cell_type": "code",
   "execution_count": 59,
   "metadata": {},
   "outputs": [
    {
     "data": {
      "text/plain": [
       "{'client_payload': {'artifact_collection_name': 'CIFAR_10',\n",
       "  'artifact_version': 'wandb-artifact://_id/QXJ0aWZhY3Q6NjI0OTY3Mzkw',\n",
       "  'artifact_version_string': 'tiny-ml/quantized edge training/CIFAR_10:v0',\n",
       "  'entity_name': 'tiny-ml',\n",
       "  'event_author': 'frds',\n",
       "  'project_name': 'quantized edge training'},\n",
       " 'event_type': 'ADD_ARTIFACT_ALIAS'}"
      ]
     },
     "execution_count": 59,
     "metadata": {},
     "output_type": "execute_result"
    }
   ],
   "source": [
    "payload"
   ]
  },
  {
   "cell_type": "code",
   "execution_count": null,
   "metadata": {},
   "outputs": [],
   "source": []
  },
  {
   "cell_type": "code",
   "execution_count": null,
   "metadata": {},
   "outputs": [],
   "source": []
  }
 ],
 "metadata": {
  "kernelspec": {
   "display_name": "Python 3 (ipykernel)",
   "language": "python",
   "name": "python3"
  },
  "language_info": {
   "codemirror_mode": {
    "name": "ipython",
    "version": 3
   },
   "file_extension": ".py",
   "mimetype": "text/x-python",
   "name": "python",
   "nbconvert_exporter": "python",
   "pygments_lexer": "ipython3",
   "version": "3.9.7"
  }
 },
 "nbformat": 4,
 "nbformat_minor": 4
}
